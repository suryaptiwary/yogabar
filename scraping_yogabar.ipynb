{
 "metadata": {
  "language_info": {
   "codemirror_mode": {
    "name": "ipython",
    "version": 3
   },
   "file_extension": ".py",
   "mimetype": "text/x-python",
   "name": "python",
   "nbconvert_exporter": "python",
   "pygments_lexer": "ipython3",
   "version": "3.8.5-final"
  },
  "orig_nbformat": 2,
  "kernelspec": {
   "name": "python38532bitae967ff2c9414c76a9de862a5a91e4ca",
   "display_name": "Python 3.8.5 32-bit"
  }
 },
 "nbformat": 4,
 "nbformat_minor": 2,
 "cells": [
  {
   "cell_type": "code",
   "execution_count": 11,
   "metadata": {},
   "outputs": [],
   "source": [
    "import pandas as pd\n",
    "import requests\n",
    "import json\n",
    "from bs4 import BeautifulSoup\n",
    "with open('D:\\Yogabar\\Solution\\product_data.json') as file:\n",
    "    product_data = json.load(file)"
   ]
  },
  {
   "cell_type": "code",
   "execution_count": 12,
   "metadata": {},
   "outputs": [],
   "source": [
    "reviews = []              #stores reviews of all review pages (1-2-3...)\n",
    "url = product_data[\"url\"] #the given url of the product reviews page (https://www.amazon.in/Yogabar-Wholegrain-Breakfast-Muesli-Fruits/product-reviews/B07M6KZQCN)\n",
    "asin_number = url[-10:]   #ASIN = B07M6KZQCN; extracts last 10 characters of \"url\"\n",
    "cookie = {}                 \n",
    "header = {'User-Agent': 'Mozilla/5.0 (Windows NT 10.0; Win64; x64) AppleWebKit/537.36 (KHTML, like Gecko) Chrome/77.0.3865.90 Safari/537.36'}"
   ]
  },
  {
   "cell_type": "code",
   "execution_count": 13,
   "metadata": {},
   "outputs": [],
   "source": [
    "def GetReviewContent(url):  #function which returns page content taking any url as a parameter\n",
    "    page = requests.get(url,cookies=cookie,headers=header)\n",
    "    if page.status_code == 200:\n",
    "        return page\n",
    "    else:\n",
    "        return \"Error\""
   ]
  },
  {
   "cell_type": "code",
   "execution_count": 14,
   "metadata": {},
   "outputs": [],
   "source": [
    "def GetAllReviewsLink(asin): #function which returns \"see all reviews\" link taking ASIN as parameter\n",
    "    all_reviews_link = \"\"\n",
    "    url = \"https://www.amazon.in/dp/\"+asin\n",
    "    page = requests.get(url, cookies=cookie, headers=header)\n",
    "    if page.status_code==200:\n",
    "        soup = BeautifulSoup(page.content)\n",
    "        for i in soup.findAll(\"a\",{'data-hook':\"see-all-reviews-link-foot\"}):\n",
    "            all_reviews_link = \"https://www.amazon.in\"+i['href']\n",
    "        return all_reviews_link\n",
    "    else:\n",
    "        return \"Error\""
   ]
  },
  {
   "cell_type": "code",
   "execution_count": 15,
   "metadata": {
    "tags": []
   },
   "outputs": [
    {
     "output_type": "stream",
     "name": "stdout",
     "text": "https://www.amazon.in/Yogabar-Wholegrain-Breakfast-Muesli-Fruits/product-reviews/B07M6KZQCN/ref=cm_cr_dp_d_show_all_btm?ie=UTF8&reviewerType=all_reviews\n                                               reviews\n871                                    \\n\\n  Tasty\\n\\n\n709                 \\n\\n  Good for daily breakfast\\n\\n\n413                            \\n\\n  Healthy tasty\\n\\n\n117  \\n\\n  Product is good and easy to prepare, pac...\n812  \\n\\n  Its a perfect combination for all those ...\n143  \\n\\n  Really loved this flavour of yoga bar mu...\n643              \\n\\n  The product is as expected.\\n\\n\n274  \\n\\n  I have been using this museli from last ...\n419  \\n\\n  Excellent product and taste... Need to c...\n177  \\n\\n  This was a wonderful surprise in terms o...\n"
    }
   ],
   "source": [
    "link = GetAllReviewsLink(asin_number)\n",
    "\n",
    "for k in range(100):   \n",
    "    response = GetReviewContent(link +'&pageNumber='+str(k))\n",
    "    soup = BeautifulSoup(response.content)\n",
    "    for i in soup.findAll(\"span\",{'data-hook':\"review-body\"}):\n",
    "        reviews.append(i.text)\n",
    "\n",
    "print(link)\n",
    "\n",
    "\n",
    "rev_dict = {'reviews':reviews}                  #converting the reviews list into a dictionary\n",
    "review_data = pd.DataFrame.from_dict(rev_dict)  #converting this dictionary into a dataframe\n",
    "review_data.to_csv('scraped_reviews_data.csv',index=False)\n",
    "\n",
    "print(review_data.sample(10))\n",
    "#https://www.amazon.in/Yogabar-Wholegrain-Breakfast-Muesli-Fruits/product-reviews/B07M6KZQCN/ref=cm_cr_dp_d_show_all_btm?ie=UTF8&reviewerType=all_reviews\n",
    "\n",
    "\n"
   ]
  }
 ]
}